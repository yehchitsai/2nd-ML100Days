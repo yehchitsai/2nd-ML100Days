{
 "cells": [
  {
   "cell_type": "markdown",
   "metadata": {},
   "source": [
    "## Work\n",
    "1. 試改變 monitor \"Validation Accuracy\" 並比較結果\n",
    "2. 調整 earlystop 的等待次數至 10, 25 並比較結果"
   ]
  },
  {
   "cell_type": "code",
   "execution_count": 2,
   "metadata": {},
   "outputs": [],
   "source": [
    "import os\n",
    "import keras\n",
    "import matplotlib.pyplot as plt\n",
    "%matplotlib inline\n",
    "\n",
    "\n",
    "# Disable GPU\n",
    "os.environ[\"CUDA_VISIBLE_DEVICES\"] = \"0\""
   ]
  },
  {
   "cell_type": "code",
   "execution_count": 3,
   "metadata": {},
   "outputs": [],
   "source": [
    "train, test = keras.datasets.cifar10.load_data()"
   ]
  },
  {
   "cell_type": "code",
   "execution_count": 4,
   "metadata": {},
   "outputs": [],
   "source": [
    "## 資料前處理\n",
    "def preproc_x(x, flatten=True):\n",
    "    x = x / 255.\n",
    "    if flatten:\n",
    "        x = x.reshape((len(x), -1))\n",
    "    return x\n",
    "\n",
    "def preproc_y(y, num_classes=10):\n",
    "    if y.shape[-1] == 1:\n",
    "        y = keras.utils.to_categorical(y, num_classes)\n",
    "    return y    "
   ]
  },
  {
   "cell_type": "code",
   "execution_count": 5,
   "metadata": {},
   "outputs": [],
   "source": [
    "x_train, y_train = train\n",
    "x_test, y_test = test\n",
    "\n",
    "data_ratio = 20\n",
    "# 將資料集減少為1/20\n",
    "# 資料前處理 - X 標準化\n",
    "x_train = preproc_x(x_train[::data_ratio])\n",
    "x_test = preproc_x(x_test[::data_ratio])\n",
    "\n",
    "# 資料前處理 -Y 轉成 onehot\n",
    "y_train = preproc_y(y_train[::data_ratio])\n",
    "y_test = preproc_y(y_test[::data_ratio])"
   ]
  },
  {
   "cell_type": "code",
   "execution_count": 6,
   "metadata": {},
   "outputs": [],
   "source": [
    "from keras.layers import BatchNormalization\n",
    "\n",
    "\"\"\"\n",
    "建立神經網路，並加入 BN layer\n",
    "\"\"\"\n",
    "def build_mlp(input_shape, output_units=10, num_neurons=[512, 256, 128]):\n",
    "    input_layer = keras.layers.Input(input_shape)\n",
    "    \n",
    "    for i, n_units in enumerate(num_neurons):\n",
    "        if i == 0:\n",
    "            x = keras.layers.Dense(units=n_units, \n",
    "                                   activation=\"relu\", \n",
    "                                   name=\"hidden_layer\"+str(i+1))(input_layer)\n",
    "            x = BatchNormalization()(x)\n",
    "        else:\n",
    "            x = keras.layers.Dense(units=n_units, \n",
    "                                   activation=\"relu\", \n",
    "                                   name=\"hidden_layer\"+str(i+1))(x)\n",
    "            x = BatchNormalization()(x)\n",
    "    \n",
    "    out = keras.layers.Dense(units=output_units, activation=\"softmax\", name=\"output\")(x)\n",
    "    \n",
    "    model = keras.models.Model(inputs=[input_layer], outputs=[out])\n",
    "    return model"
   ]
  },
  {
   "cell_type": "code",
   "execution_count": 7,
   "metadata": {},
   "outputs": [],
   "source": [
    "\"\"\"Code Here\n",
    "設定超參數\n",
    "\"\"\"\n",
    "LEARNING_RATE = 1e-3\n",
    "EPOCHS = 50\n",
    "BATCH_SIZE = 1024\n",
    "MOMENTUM = 0.95"
   ]
  },
  {
   "cell_type": "code",
   "execution_count": 8,
   "metadata": {},
   "outputs": [
    {
     "name": "stdout",
     "output_type": "stream",
     "text": [
      "_________________________________________________________________\n",
      "Layer (type)                 Output Shape              Param #   \n",
      "=================================================================\n",
      "input_1 (InputLayer)         (None, 3072)              0         \n",
      "_________________________________________________________________\n",
      "hidden_layer1 (Dense)        (None, 512)               1573376   \n",
      "_________________________________________________________________\n",
      "batch_normalization_1 (Batch (None, 512)               2048      \n",
      "_________________________________________________________________\n",
      "hidden_layer2 (Dense)        (None, 256)               131328    \n",
      "_________________________________________________________________\n",
      "batch_normalization_2 (Batch (None, 256)               1024      \n",
      "_________________________________________________________________\n",
      "hidden_layer3 (Dense)        (None, 128)               32896     \n",
      "_________________________________________________________________\n",
      "batch_normalization_3 (Batch (None, 128)               512       \n",
      "_________________________________________________________________\n",
      "output (Dense)               (None, 10)                1290      \n",
      "=================================================================\n",
      "Total params: 1,742,474\n",
      "Trainable params: 1,740,682\n",
      "Non-trainable params: 1,792\n",
      "_________________________________________________________________\n",
      "Train on 2500 samples, validate on 500 samples\n",
      "Epoch 1/50\n",
      "2500/2500 [==============================] - 3s 1ms/step - loss: 3.1689 - acc: 0.1004 - val_loss: 2.9847 - val_acc: 0.1020\n",
      "Epoch 2/50\n",
      "2500/2500 [==============================] - 0s 111us/step - loss: 2.8884 - acc: 0.1276 - val_loss: 2.8265 - val_acc: 0.1340\n",
      "Epoch 3/50\n",
      "2500/2500 [==============================] - 0s 107us/step - loss: 2.5800 - acc: 0.1804 - val_loss: 2.7718 - val_acc: 0.1540\n",
      "Epoch 4/50\n",
      "2500/2500 [==============================] - 0s 112us/step - loss: 2.3349 - acc: 0.2360 - val_loss: 2.7222 - val_acc: 0.1960\n",
      "Epoch 5/50\n",
      "2500/2500 [==============================] - 0s 107us/step - loss: 2.1473 - acc: 0.2812 - val_loss: 2.6053 - val_acc: 0.2100\n",
      "Epoch 6/50\n",
      "2500/2500 [==============================] - 0s 100us/step - loss: 1.9961 - acc: 0.3232 - val_loss: 2.4969 - val_acc: 0.2200\n",
      "Epoch 7/50\n",
      "2500/2500 [==============================] - 0s 108us/step - loss: 1.8693 - acc: 0.3632 - val_loss: 2.4286 - val_acc: 0.2520\n",
      "Epoch 8/50\n",
      "2500/2500 [==============================] - 0s 116us/step - loss: 1.7618 - acc: 0.3972 - val_loss: 2.3798 - val_acc: 0.2320\n",
      "Epoch 9/50\n",
      "2500/2500 [==============================] - 0s 109us/step - loss: 1.6694 - acc: 0.4340 - val_loss: 2.3176 - val_acc: 0.2420\n",
      "Epoch 10/50\n",
      "2500/2500 [==============================] - 0s 108us/step - loss: 1.5837 - acc: 0.4592 - val_loss: 2.2521 - val_acc: 0.2500\n",
      "Epoch 11/50\n",
      "2500/2500 [==============================] - 0s 108us/step - loss: 1.4976 - acc: 0.4944 - val_loss: 2.1995 - val_acc: 0.2760\n",
      "Epoch 12/50\n",
      "2500/2500 [==============================] - 0s 103us/step - loss: 1.4240 - acc: 0.5208 - val_loss: 2.1659 - val_acc: 0.2860\n",
      "Epoch 13/50\n",
      "2500/2500 [==============================] - 0s 102us/step - loss: 1.3604 - acc: 0.5484 - val_loss: 2.1610 - val_acc: 0.2920\n",
      "Epoch 14/50\n",
      "2500/2500 [==============================] - ETA: 0s - loss: 1.3170 - acc: 0.565 - 0s 121us/step - loss: 1.3006 - acc: 0.5684 - val_loss: 2.1510 - val_acc: 0.2840\n",
      "Epoch 15/50\n",
      "2500/2500 [==============================] - 0s 128us/step - loss: 1.2466 - acc: 0.5940 - val_loss: 2.1270 - val_acc: 0.2920\n",
      "Epoch 16/50\n",
      "2500/2500 [==============================] - 0s 107us/step - loss: 1.1957 - acc: 0.6264 - val_loss: 2.1037 - val_acc: 0.3000\n",
      "Epoch 17/50\n",
      "2500/2500 [==============================] - 0s 106us/step - loss: 1.1487 - acc: 0.6400 - val_loss: 2.0869 - val_acc: 0.2940\n",
      "Epoch 18/50\n",
      "2500/2500 [==============================] - 0s 110us/step - loss: 1.1059 - acc: 0.6596 - val_loss: 2.0751 - val_acc: 0.3100\n",
      "Epoch 19/50\n",
      "2500/2500 [==============================] - 0s 111us/step - loss: 1.0634 - acc: 0.6760 - val_loss: 2.0607 - val_acc: 0.3300\n",
      "Epoch 20/50\n",
      "2500/2500 [==============================] - 0s 105us/step - loss: 1.0248 - acc: 0.6948 - val_loss: 2.0452 - val_acc: 0.3280\n",
      "Epoch 21/50\n",
      "2500/2500 [==============================] - 0s 100us/step - loss: 0.9833 - acc: 0.7144 - val_loss: 2.0312 - val_acc: 0.3240\n",
      "Epoch 22/50\n",
      "2500/2500 [==============================] - 0s 108us/step - loss: 0.9504 - acc: 0.7360 - val_loss: 2.0207 - val_acc: 0.3280\n",
      "Epoch 23/50\n",
      "2500/2500 [==============================] - 0s 117us/step - loss: 0.9196 - acc: 0.7444 - val_loss: 2.0148 - val_acc: 0.3400\n",
      "Epoch 24/50\n",
      "2500/2500 [==============================] - 0s 128us/step - loss: 0.8870 - acc: 0.7636 - val_loss: 2.0138 - val_acc: 0.3360\n",
      "Epoch 25/50\n",
      "2500/2500 [==============================] - 0s 105us/step - loss: 0.8561 - acc: 0.7812 - val_loss: 2.0094 - val_acc: 0.3380\n",
      "Epoch 26/50\n",
      "2500/2500 [==============================] - 0s 105us/step - loss: 0.8246 - acc: 0.7944 - val_loss: 1.9981 - val_acc: 0.3460\n",
      "Epoch 27/50\n",
      "2500/2500 [==============================] - 0s 115us/step - loss: 0.7986 - acc: 0.8052 - val_loss: 1.9887 - val_acc: 0.3480\n",
      "Epoch 28/50\n",
      "2500/2500 [==============================] - 0s 101us/step - loss: 0.7692 - acc: 0.8208 - val_loss: 1.9816 - val_acc: 0.3560\n",
      "Epoch 29/50\n",
      "2500/2500 [==============================] - 0s 107us/step - loss: 0.7443 - acc: 0.8304 - val_loss: 1.9766 - val_acc: 0.3720\n",
      "Epoch 30/50\n",
      "2500/2500 [==============================] - 0s 104us/step - loss: 0.7193 - acc: 0.8376 - val_loss: 1.9751 - val_acc: 0.3620\n",
      "Epoch 31/50\n",
      "2500/2500 [==============================] - 0s 106us/step - loss: 0.6991 - acc: 0.8468 - val_loss: 1.9770 - val_acc: 0.3540\n",
      "Epoch 32/50\n",
      "2500/2500 [==============================] - 0s 110us/step - loss: 0.6754 - acc: 0.8584 - val_loss: 1.9746 - val_acc: 0.3500\n",
      "Epoch 33/50\n",
      "2500/2500 [==============================] - 0s 120us/step - loss: 0.6516 - acc: 0.8692 - val_loss: 1.9730 - val_acc: 0.3580\n",
      "Epoch 34/50\n",
      "2500/2500 [==============================] - 0s 103us/step - loss: 0.6341 - acc: 0.8780 - val_loss: 1.9722 - val_acc: 0.3580\n",
      "Epoch 35/50\n",
      "2500/2500 [==============================] - 0s 103us/step - loss: 0.6138 - acc: 0.8816 - val_loss: 1.9698 - val_acc: 0.3620\n",
      "Epoch 36/50\n",
      "2500/2500 [==============================] - 0s 106us/step - loss: 0.5938 - acc: 0.8956 - val_loss: 1.9695 - val_acc: 0.3600\n",
      "Epoch 37/50\n",
      "2500/2500 [==============================] - 0s 103us/step - loss: 0.5772 - acc: 0.9012 - val_loss: 1.9701 - val_acc: 0.3660\n",
      "Epoch 38/50\n",
      "2500/2500 [==============================] - 0s 103us/step - loss: 0.5566 - acc: 0.9076 - val_loss: 1.9729 - val_acc: 0.3620\n",
      "Epoch 39/50\n",
      "2500/2500 [==============================] - 0s 100us/step - loss: 0.5396 - acc: 0.9176 - val_loss: 1.9770 - val_acc: 0.3600\n",
      "Epoch 00039: early stopping\n"
     ]
    }
   ],
   "source": [
    "# 載入 Callbacks\n",
    "\"\"\"Code Here\n",
    "設定 callbacks: Earlystop - monitor \"Validation Accuracy\",等待次數至 10, 25\n",
    "\"\"\"\n",
    "from keras.callbacks import EarlyStopping\n",
    "\n",
    "earlystop = EarlyStopping(monitor=\"val_acc\", \n",
    "                          patience=10, \n",
    "                          verbose=1\n",
    "                          )\n",
    "results = {}\n",
    "\"\"\"Code Here\n",
    "撰寫你的訓練流程並將結果用 dictionary 紀錄\n",
    "\"\"\"\n",
    "model = build_mlp(input_shape=x_train.shape[1:])\n",
    "model.summary()\n",
    "optimizer = keras.optimizers.SGD(lr=LEARNING_RATE, nesterov=True, momentum=MOMENTUM)\n",
    "model.compile(loss=\"categorical_crossentropy\", metrics=[\"accuracy\"], optimizer=optimizer)\n",
    "\n",
    "model.fit(x_train, y_train, \n",
    "          epochs=EPOCHS, \n",
    "          batch_size=BATCH_SIZE, \n",
    "          validation_data=(x_test, y_test), \n",
    "          shuffle=True,\n",
    "          callbacks=[earlystop]\n",
    "         )\n",
    "\n",
    "# Collect results\n",
    "train_loss = model.history.history[\"loss\"]\n",
    "valid_loss = model.history.history[\"val_loss\"]\n",
    "train_acc = model.history.history[\"acc\"]\n",
    "valid_acc = model.history.history[\"val_acc\"]"
   ]
  },
  {
   "cell_type": "code",
   "execution_count": 9,
   "metadata": {},
   "outputs": [
    {
     "data": {
      "image/png": "[encoded data removed]",
      "text/plain": [
       "<matplotlib.figure.Figure at 0x1e7af631828>"
      ]
     },
     "metadata": {},
     "output_type": "display_data"
    },
    {
     "data": {
      "image/png": "[encoded data removed]",
      "text/plain": [
       "<matplotlib.figure.Figure at 0x1e7ba629400>"
      ]
     },
     "metadata": {},
     "output_type": "display_data"
    }
   ],
   "source": [
    "\"\"\"Code Here\n",
    "將結果繪出\n",
    "\"\"\"\n",
    "plt.plot(range(len(train_loss)), train_loss, label=\"train loss\")\n",
    "plt.plot(range(len(valid_loss)), valid_loss, label=\"valid loss\")\n",
    "plt.legend()\n",
    "plt.title(\"Loss\")\n",
    "plt.show()\n",
    "\n",
    "plt.plot(range(len(train_acc)), train_acc, label=\"train accuracy\")\n",
    "plt.plot(range(len(valid_acc)), valid_acc, label=\"valid accuracy\")\n",
    "plt.legend()\n",
    "plt.title(\"Accuracy\")\n",
    "plt.show()"
   ]
  },
  {
   "cell_type": "code",
   "execution_count": null,
   "metadata": {},
   "outputs": [],
   "source": []
  }
 ],
 "metadata": {
  "kernelspec": {
   "display_name": "Python 3",
   "language": "python",
   "name": "python3"
  },
  "language_info": {
   "codemirror_mode": {
    "name": "ipython",
    "version": 3
   },
   "file_extension": ".py",
   "mimetype": "text/x-python",
   "name": "python",
   "nbconvert_exporter": "python",
   "pygments_lexer": "ipython3",
   "version": "3.6.6"
  }
 },
 "nbformat": 4,
 "nbformat_minor": 2
}
