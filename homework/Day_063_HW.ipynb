{
 "cells": [
  {
   "cell_type": "markdown",
   "metadata": {},
   "source": [
    "# 作業\n",
    "* 在精簡深度學習的方式上 : 卷積類神經 (CNN) 採用像素遠近，而遞歸類神經 (RNN) 採用著則是時間遠近\n",
    "* 那麼，既然有著類似的設計精神，兩者是否有可能互換應用呢?"
   ]
  },
  {
   "cell_type": "markdown",
   "metadata": {
    "collapsed": true
   },
   "source": [
    "## CNN與RNN  \n",
    "### 相同點：  \n",
    "* 傳統神經網絡的擴展。\n",
    "* 前向計算產生結果，反向計算模型更新。\n",
    "* 每層神經網絡橫向可以多個神經元共存,縱向可以有多層神經網絡連接。\n",
    "\n",
    "### 不同點\n",
    "* CNN空間擴展，神經元與特征卷積；RNN時間擴展，神經元與多個時間輸出計算\n",
    "* RNN可以用於描述時間上連續狀態的輸出，有記憶功能，CNN用於靜態輸出\n",
    "* CNN高級100+深度，RNN深度有限\n",
    "\n",
    "### 以圖片標註為例\n",
    "具體步驟：\n",
    "\n",
    "* 1.1 模型設計－特征提取 \n",
    "    1. 全連接層特征用來描述原圖片\n",
    "    2. LSTM輸入：word＋圖片特征；輸出下一word。\n",
    "\n",
    "* 1.2 模型設計－數據準備   \n",
    "    1. 圖片CNN特征提取\n",
    "    2. 圖片標註生成Word2Vect 向量\n",
    "    3. 生成訓練數據：圖片特征＋第n單詞向量：第n＋1單詞向量。\n",
    "\n",
    "* 1.3 模型訓練：\n",
    "    1. 運用遷移學習，CNN特征，語句特征應用已有模型\n",
    "    2. 最終的輸出模型是LSTM，訓練過程的參數設定：梯度上限(gradient clipping), 學習率調整(adaptivelearning)\n",
    "    3. 訓練時間很長。\n",
    "\n",
    "* 1.4 模型運行：\n",
    "    1. CNN特征提取\n",
    "    2. CNN 特征＋語句開頭，單詞逐個預測\n",
    "\n",
    "\n",
    "參考資料來源\n",
    "* 筆記：深度學習, http://kayjean.blogspot.com/2018/10/blog-post.html\n",
    "* CNN 與 RNN 之間的差異？, https://blogs.nvidia.com.tw/2018/09/whats-the-difference-between-a-cnn-and-an-rnn/\n",
    "* 【深度學習篇】---CNN和RNN結合與對比，實例講解, https://www.itread01.com/content/1536001138.html"
   ]
  },
  {
   "cell_type": "code",
   "execution_count": null,
   "metadata": {},
   "outputs": [],
   "source": []
  }
 ],
 "metadata": {
  "kernelspec": {
   "display_name": "Python 3",
   "language": "python",
   "name": "python3"
  },
  "language_info": {
   "codemirror_mode": {
    "name": "ipython",
    "version": 3
   },
   "file_extension": ".py",
   "mimetype": "text/x-python",
   "name": "python",
   "nbconvert_exporter": "python",
   "pygments_lexer": "ipython3",
   "version": "3.6.6"
  }
 },
 "nbformat": 4,
 "nbformat_minor": 2
}
