{
 "cells": [
  {
   "cell_type": "markdown",
   "metadata": {},
   "source": [
    "## Work\n",
    "1. 請比較 SGD optimizer 不同的 momentum 及使用 nesterov 與否的表現"
   ]
  },
  {
   "cell_type": "code",
   "execution_count": 1,
   "metadata": {},
   "outputs": [
    {
     "name": "stderr",
     "output_type": "stream",
     "text": [
      "Using TensorFlow backend.\n"
     ]
    }
   ],
   "source": [
    "import os\n",
    "import keras\n",
    "\n",
    "# 本作業可以不需使用 GPU, 將 GPU 設定為 \"無\" (若想使用可自行開啟)\n",
    "os.environ[\"CUDA_VISIBLE_DEVICES\"] = \"0\""
   ]
  },
  {
   "cell_type": "code",
   "execution_count": 2,
   "metadata": {},
   "outputs": [],
   "source": [
    "train, test = keras.datasets.cifar10.load_data()"
   ]
  },
  {
   "cell_type": "code",
   "execution_count": 3,
   "metadata": {},
   "outputs": [],
   "source": [
    "## 資料前處理\n",
    "def preproc_x(x, flatten=True):\n",
    "    x = x / 255.\n",
    "    if flatten:\n",
    "        x = x.reshape((len(x), -1))\n",
    "    return x\n",
    "\n",
    "def preproc_y(y, num_classes=10):\n",
    "    if y.shape[-1] == 1:\n",
    "        y = keras.utils.to_categorical(y, num_classes)\n",
    "    return y    "
   ]
  },
  {
   "cell_type": "code",
   "execution_count": 4,
   "metadata": {},
   "outputs": [],
   "source": [
    "x_train, y_train = train\n",
    "x_test, y_test = test\n",
    "\n",
    "# 資料前處理 - X 標準化\n",
    "x_train = preproc_x(x_train)\n",
    "x_test = preproc_x(x_test)\n",
    "\n",
    "# 資料前處理 -Y 轉成 onehot\n",
    "y_train = preproc_y(y_train)\n",
    "y_test = preproc_y(y_test)"
   ]
  },
  {
   "cell_type": "code",
   "execution_count": 5,
   "metadata": {},
   "outputs": [],
   "source": [
    "def build_mlp(input_shape, output_units=10, num_neurons=[512, 256, 128]):\n",
    "    input_layer = keras.layers.Input(input_shape)\n",
    "    \n",
    "    for i, n_units in enumerate(num_neurons):\n",
    "        if i == 0:\n",
    "            x = keras.layers.Dense(units=n_units, activation=\"relu\", name=\"hidden_layer\"+str(i+1))(input_layer)\n",
    "        else:\n",
    "            x = keras.layers.Dense(units=n_units, activation=\"relu\", name=\"hidden_layer\"+str(i+1))(x)\n",
    "    \n",
    "    out = keras.layers.Dense(units=output_units, activation=\"softmax\", name=\"output\")(x)\n",
    "    \n",
    "    model = keras.models.Model(inputs=[input_layer], outputs=[out])\n",
    "    return model"
   ]
  },
  {
   "cell_type": "code",
   "execution_count": 6,
   "metadata": {},
   "outputs": [],
   "source": [
    "\"\"\"Code Here\n",
    "設定超參數\n",
    "\"\"\"\n",
    "LEARNING_RATE = 1e-5\n",
    "EPOCHS = 50\n",
    "BATCH_SIZE = 256\n",
    "MOMENTUMS = [0.95, 0.5, 0.1]"
   ]
  },
  {
   "cell_type": "code",
   "execution_count": 7,
   "metadata": {
    "scrolled": true
   },
   "outputs": [
    {
     "name": "stdout",
     "output_type": "stream",
     "text": [
      "Experiment with MOMENTUM, LR = 0.950000, 1e-5\n",
      "_________________________________________________________________\n",
      "Layer (type)                 Output Shape              Param #   \n",
      "=================================================================\n",
      "input_1 (InputLayer)         (None, 3072)              0         \n",
      "_________________________________________________________________\n",
      "hidden_layer1 (Dense)        (None, 512)               1573376   \n",
      "_________________________________________________________________\n",
      "hidden_layer2 (Dense)        (None, 256)               131328    \n",
      "_________________________________________________________________\n",
      "hidden_layer3 (Dense)        (None, 128)               32896     \n",
      "_________________________________________________________________\n",
      "output (Dense)               (None, 10)                1290      \n",
      "=================================================================\n",
      "Total params: 1,738,890\n",
      "Trainable params: 1,738,890\n",
      "Non-trainable params: 0\n",
      "_________________________________________________________________\n",
      "Train on 50000 samples, validate on 10000 samples\n",
      "Epoch 1/50\n",
      "50000/50000 [==============================] - 11s 210us/step - loss: 2.3243 - acc: 0.1350 - val_loss: 2.2838 - val_acc: 0.1474\n",
      "Epoch 2/50\n",
      "50000/50000 [==============================] - 7s 141us/step - loss: 2.2658 - acc: 0.1623 - val_loss: 2.2525 - val_acc: 0.1844\n",
      "Epoch 3/50\n",
      "50000/50000 [==============================] - 7s 135us/step - loss: 2.2414 - acc: 0.1952 - val_loss: 2.2313 - val_acc: 0.2051\n",
      "Epoch 4/50\n",
      "50000/50000 [==============================] - 7s 135us/step - loss: 2.2220 - acc: 0.2072 - val_loss: 2.2130 - val_acc: 0.2168\n",
      "Epoch 5/50\n",
      "50000/50000 [==============================] - 7s 134us/step - loss: 2.2048 - acc: 0.2154 - val_loss: 2.1965 - val_acc: 0.2233\n",
      "Epoch 6/50\n",
      "50000/50000 [==============================] - 7s 134us/step - loss: 2.1891 - acc: 0.2227 - val_loss: 2.1814 - val_acc: 0.2293\n",
      "Epoch 7/50\n",
      "50000/50000 [==============================] - 7s 135us/step - loss: 2.1745 - acc: 0.2287 - val_loss: 2.1674 - val_acc: 0.2345\n",
      "Epoch 8/50\n",
      "50000/50000 [==============================] - 7s 134us/step - loss: 2.1611 - acc: 0.2360 - val_loss: 2.1546 - val_acc: 0.2390\n",
      "Epoch 9/50\n",
      "50000/50000 [==============================] - 7s 134us/step - loss: 2.1486 - acc: 0.2414 - val_loss: 2.1426 - val_acc: 0.2448\n",
      "Epoch 10/50\n",
      "50000/50000 [==============================] - 7s 135us/step - loss: 2.1371 - acc: 0.2471 - val_loss: 2.1314 - val_acc: 0.2473\n",
      "Epoch 11/50\n",
      "50000/50000 [==============================] - 7s 137us/step - loss: 2.1263 - acc: 0.2497 - val_loss: 2.1209 - val_acc: 0.2510\n",
      "Epoch 12/50\n",
      "50000/50000 [==============================] - 7s 135us/step - loss: 2.1162 - acc: 0.2549 - val_loss: 2.1110 - val_acc: 0.2554\n",
      "Epoch 13/50\n",
      "50000/50000 [==============================] - 7s 134us/step - loss: 2.1066 - acc: 0.2575 - val_loss: 2.1015 - val_acc: 0.2608\n",
      "Epoch 14/50\n",
      "50000/50000 [==============================] - 7s 133us/step - loss: 2.0973 - acc: 0.2609 - val_loss: 2.0925 - val_acc: 0.2639\n",
      "Epoch 15/50\n",
      "50000/50000 [==============================] - 7s 133us/step - loss: 2.0886 - acc: 0.2650 - val_loss: 2.0839 - val_acc: 0.2668\n",
      "Epoch 16/50\n",
      "50000/50000 [==============================] - 7s 133us/step - loss: 2.0802 - acc: 0.2686 - val_loss: 2.0757 - val_acc: 0.2693\n",
      "Epoch 17/50\n",
      "50000/50000 [==============================] - 7s 133us/step - loss: 2.0721 - acc: 0.2707 - val_loss: 2.0677 - val_acc: 0.2735\n",
      "Epoch 18/50\n",
      "50000/50000 [==============================] - 7s 133us/step - loss: 2.0644 - acc: 0.2739 - val_loss: 2.0599 - val_acc: 0.2751\n",
      "Epoch 19/50\n",
      "50000/50000 [==============================] - 7s 134us/step - loss: 2.0568 - acc: 0.2784 - val_loss: 2.0525 - val_acc: 0.2801\n",
      "Epoch 20/50\n",
      "50000/50000 [==============================] - 7s 133us/step - loss: 2.0494 - acc: 0.2812 - val_loss: 2.0453 - val_acc: 0.2827\n",
      "Epoch 21/50\n",
      "50000/50000 [==============================] - 7s 133us/step - loss: 2.0423 - acc: 0.2845 - val_loss: 2.0383 - val_acc: 0.2846\n",
      "Epoch 22/50\n",
      "50000/50000 [==============================] - 7s 133us/step - loss: 2.0355 - acc: 0.2881 - val_loss: 2.0316 - val_acc: 0.2868\n",
      "Epoch 23/50\n",
      "50000/50000 [==============================] - 7s 134us/step - loss: 2.0289 - acc: 0.2896 - val_loss: 2.0252 - val_acc: 0.2921\n",
      "Epoch 24/50\n",
      "50000/50000 [==============================] - 7s 133us/step - loss: 2.0225 - acc: 0.2941 - val_loss: 2.0190 - val_acc: 0.2920\n",
      "Epoch 25/50\n",
      "50000/50000 [==============================] - 7s 133us/step - loss: 2.0163 - acc: 0.2949 - val_loss: 2.0129 - val_acc: 0.2959\n",
      "Epoch 26/50\n",
      "50000/50000 [==============================] - 7s 135us/step - loss: 2.0103 - acc: 0.2987 - val_loss: 2.0070 - val_acc: 0.2977\n",
      "Epoch 27/50\n",
      "50000/50000 [==============================] - 7s 139us/step - loss: 2.0044 - acc: 0.3008 - val_loss: 2.0012 - val_acc: 0.3012\n",
      "Epoch 28/50\n",
      "50000/50000 [==============================] - 7s 136us/step - loss: 1.9988 - acc: 0.3031 - val_loss: 1.9956 - val_acc: 0.3039\n",
      "Epoch 29/50\n",
      "50000/50000 [==============================] - 7s 137us/step - loss: 1.9933 - acc: 0.3053 - val_loss: 1.9903 - val_acc: 0.3040\n",
      "Epoch 30/50\n",
      "50000/50000 [==============================] - 7s 134us/step - loss: 1.9879 - acc: 0.3088 - val_loss: 1.9850 - val_acc: 0.3073\n",
      "Epoch 31/50\n",
      "50000/50000 [==============================] - 7s 135us/step - loss: 1.9826 - acc: 0.3087 - val_loss: 1.9799 - val_acc: 0.3087\n",
      "Epoch 32/50\n",
      "50000/50000 [==============================] - 7s 136us/step - loss: 1.9776 - acc: 0.3122 - val_loss: 1.9750 - val_acc: 0.3083\n",
      "Epoch 33/50\n",
      "50000/50000 [==============================] - 7s 136us/step - loss: 1.9726 - acc: 0.3149 - val_loss: 1.9702 - val_acc: 0.3102\n",
      "Epoch 34/50\n",
      "50000/50000 [==============================] - 7s 140us/step - loss: 1.9678 - acc: 0.3157 - val_loss: 1.9655 - val_acc: 0.3126\n",
      "Epoch 35/50\n",
      "50000/50000 [==============================] - 7s 137us/step - loss: 1.9632 - acc: 0.3180 - val_loss: 1.9610 - val_acc: 0.3118\n",
      "Epoch 36/50\n",
      "50000/50000 [==============================] - 7s 136us/step - loss: 1.9587 - acc: 0.3187 - val_loss: 1.9568 - val_acc: 0.3161\n",
      "Epoch 37/50\n",
      "50000/50000 [==============================] - 7s 136us/step - loss: 1.9544 - acc: 0.3209 - val_loss: 1.9525 - val_acc: 0.3153\n",
      "Epoch 38/50\n",
      "50000/50000 [==============================] - 7s 137us/step - loss: 1.9502 - acc: 0.3215 - val_loss: 1.9485 - val_acc: 0.3178\n",
      "Epoch 39/50\n",
      "50000/50000 [==============================] - 7s 139us/step - loss: 1.9460 - acc: 0.3230 - val_loss: 1.9444 - val_acc: 0.3184\n",
      "Epoch 40/50\n",
      "50000/50000 [==============================] - 7s 136us/step - loss: 1.9420 - acc: 0.3247 - val_loss: 1.9405 - val_acc: 0.3207\n",
      "Epoch 41/50\n",
      "50000/50000 [==============================] - 7s 138us/step - loss: 1.9381 - acc: 0.3261 - val_loss: 1.9368 - val_acc: 0.3223\n",
      "Epoch 42/50\n",
      "50000/50000 [==============================] - 7s 137us/step - loss: 1.9343 - acc: 0.3273 - val_loss: 1.9332 - val_acc: 0.3225\n",
      "Epoch 43/50\n",
      "50000/50000 [==============================] - 7s 135us/step - loss: 1.9305 - acc: 0.3282 - val_loss: 1.9295 - val_acc: 0.3263\n",
      "Epoch 44/50\n",
      "50000/50000 [==============================] - 7s 135us/step - loss: 1.9268 - acc: 0.3299 - val_loss: 1.9260 - val_acc: 0.3270\n",
      "Epoch 45/50\n",
      "50000/50000 [==============================] - 7s 137us/step - loss: 1.9233 - acc: 0.3315 - val_loss: 1.9227 - val_acc: 0.3271\n",
      "Epoch 46/50\n",
      "50000/50000 [==============================] - 7s 137us/step - loss: 1.9199 - acc: 0.3322 - val_loss: 1.9195 - val_acc: 0.3295\n",
      "Epoch 47/50\n",
      "50000/50000 [==============================] - 7s 136us/step - loss: 1.9165 - acc: 0.3335 - val_loss: 1.9162 - val_acc: 0.3299\n",
      "Epoch 48/50\n",
      "50000/50000 [==============================] - 7s 133us/step - loss: 1.9133 - acc: 0.3344 - val_loss: 1.9131 - val_acc: 0.3320\n",
      "Epoch 49/50\n",
      "50000/50000 [==============================] - 7s 133us/step - loss: 1.9101 - acc: 0.3359 - val_loss: 1.9101 - val_acc: 0.3344\n",
      "Epoch 50/50\n",
      "50000/50000 [==============================] - 7s 133us/step - loss: 1.9070 - acc: 0.3365 - val_loss: 1.9071 - val_acc: 0.3333\n"
     ]
    },
    {
     "ename": "NameError",
     "evalue": "name 'lr' is not defined",
     "output_type": "error",
     "traceback": [
      "\u001b[1;31m---------------------------------------------------------------------------\u001b[0m",
      "\u001b[1;31mNameError\u001b[0m                                 Traceback (most recent call last)",
      "\u001b[1;32m<ipython-input-7-f6a5f41db356>\u001b[0m in \u001b[0;36m<module>\u001b[1;34m()\u001b[0m\n\u001b[0;32m     23\u001b[0m     \u001b[0mvalid_acc\u001b[0m \u001b[1;33m=\u001b[0m \u001b[0mmodel\u001b[0m\u001b[1;33m.\u001b[0m\u001b[0mhistory\u001b[0m\u001b[1;33m.\u001b[0m\u001b[0mhistory\u001b[0m\u001b[1;33m[\u001b[0m\u001b[1;34m\"val_acc\"\u001b[0m\u001b[1;33m]\u001b[0m\u001b[1;33m\u001b[0m\u001b[0m\n\u001b[0;32m     24\u001b[0m \u001b[1;33m\u001b[0m\u001b[0m\n\u001b[1;32m---> 25\u001b[1;33m     \u001b[0mexp_name_tag\u001b[0m \u001b[1;33m=\u001b[0m \u001b[1;34m\"exp-lr-%s\"\u001b[0m \u001b[1;33m%\u001b[0m \u001b[0mstr\u001b[0m\u001b[1;33m(\u001b[0m\u001b[0mlr\u001b[0m\u001b[1;33m)\u001b[0m\u001b[1;33m\u001b[0m\u001b[0m\n\u001b[0m\u001b[0;32m     26\u001b[0m     results[exp_name_tag] = {'train-loss': train_loss,\n\u001b[0;32m     27\u001b[0m                              \u001b[1;34m'valid-loss'\u001b[0m\u001b[1;33m:\u001b[0m \u001b[0mvalid_loss\u001b[0m\u001b[1;33m,\u001b[0m\u001b[1;33m\u001b[0m\u001b[0m\n",
      "\u001b[1;31mNameError\u001b[0m: name 'lr' is not defined"
     ]
    }
   ],
   "source": [
    "results = {}\n",
    "\"\"\"Code Here\n",
    "撰寫你的訓練流程並將結果用 dictionary 紀錄\n",
    "\"\"\"\n",
    "for MOMENTUM in MOMENTUMS:\n",
    "    keras.backend.clear_session() # 把舊的 Graph 清掉\n",
    "    print(\"Experiment with MOMENTUM, LR = %.6f, 1e-5\" % (MOMENTUM))\n",
    "    model = build_mlp(input_shape=x_train.shape[1:])\n",
    "    model.summary()\n",
    "    optimizer = keras.optimizers.SGD(lr=LEARNING_RATE, nesterov=True, momentum=MOMENTUM)\n",
    "    model.compile(loss=\"categorical_crossentropy\", metrics=[\"accuracy\"], optimizer=optimizer)\n",
    "\n",
    "    model.fit(x_train, y_train, \n",
    "              epochs=EPOCHS, \n",
    "              batch_size=BATCH_SIZE, \n",
    "              validation_data=(x_test, y_test), \n",
    "              shuffle=True)\n",
    "    \n",
    "    # Collect results\n",
    "    train_loss = model.history.history[\"loss\"]\n",
    "    valid_loss = model.history.history[\"val_loss\"]\n",
    "    train_acc = model.history.history[\"acc\"]\n",
    "    valid_acc = model.history.history[\"val_acc\"]\n",
    "    \n",
    "    exp_name_tag = \"exp-lr-%s\" % str(MOMENTUM)\n",
    "    results[exp_name_tag] = {'train-loss': train_loss,\n",
    "                             'valid-loss': valid_loss,\n",
    "                             'train-acc': train_acc,\n",
    "                             'valid-acc': valid_acc}"
   ]
  },
  {
   "cell_type": "code",
   "execution_count": 8,
   "metadata": {},
   "outputs": [
    {
     "name": "stderr",
     "output_type": "stream",
     "text": [
      "No handles with labels found to put in legend.\n"
     ]
    },
    {
     "data": {
      "image/png": "[encoded data removed]",
      "text/plain": [
       "<matplotlib.figure.Figure at 0x21219950748>"
      ]
     },
     "metadata": {},
     "output_type": "display_data"
    },
    {
     "name": "stderr",
     "output_type": "stream",
     "text": [
      "No handles with labels found to put in legend.\n"
     ]
    },
    {
     "data": {
      "image/png": "[encoded data removed]",
      "text/plain": [
       "<matplotlib.figure.Figure at 0x212038116a0>"
      ]
     },
     "metadata": {},
     "output_type": "display_data"
    }
   ],
   "source": [
    "import matplotlib.pyplot as plt\n",
    "%matplotlib inline\n",
    "\"\"\"Code Here\n",
    "將結果繪出\n",
    "\"\"\"\n",
    "color_bar = [\"r\", \"g\", \"b\", \"y\", \"m\", \"k\"]\n",
    "\n",
    "plt.figure(figsize=(8,6))\n",
    "for i, cond in enumerate(results.keys()):\n",
    "    plt.plot(range(len(results[cond]['train-loss'])),results[cond]['train-loss'], '-', label=cond, color=color_bar[i])\n",
    "    plt.plot(range(len(results[cond]['valid-loss'])),results[cond]['valid-loss'], '--', label=cond, color=color_bar[i])\n",
    "plt.title(\"Loss\")\n",
    "plt.legend()\n",
    "plt.show()\n",
    "\n",
    "plt.figure(figsize=(8,6))\n",
    "for i, cond in enumerate(results.keys()):\n",
    "    plt.plot(range(len(results[cond]['train-acc'])),results[cond]['train-acc'], '-', label=cond, color=color_bar[i])\n",
    "    plt.plot(range(len(results[cond]['valid-acc'])),results[cond]['valid-acc'], '--', label=cond, color=color_bar[i])\n",
    "plt.title(\"Accuracy\")\n",
    "plt.legend()\n",
    "plt.show()"
   ]
  },
  {
   "cell_type": "code",
   "execution_count": null,
   "metadata": {},
   "outputs": [],
   "source": []
  }
 ],
 "metadata": {
  "kernelspec": {
   "display_name": "Python 3",
   "language": "python",
   "name": "python3"
  },
  "language_info": {
   "codemirror_mode": {
    "name": "ipython",
    "version": 3
   },
   "file_extension": ".py",
   "mimetype": "text/x-python",
   "name": "python",
   "nbconvert_exporter": "python",
   "pygments_lexer": "ipython3",
   "version": "3.6.6"
  }
 },
 "nbformat": 4,
 "nbformat_minor": 2
}
