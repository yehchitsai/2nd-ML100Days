{
 "cells": [
  {
   "cell_type": "markdown",
   "metadata": {},
   "source": [
    "# 作業\n",
    "* 選擇分類資料集(右下)-螺旋雙臂 - 交錯六群，限定特徵只能使用前兩個，隱藏層 2 層滿 (共 8 * 2 =16 個神經元)，  \n",
    "  遞迴次數只允許跑到500次，但可以自由調整 批次大小、學習速率、啟動函數、正規化選項與參數\n",
    "* 在上述限制下，挑戰看看測試誤差 (Test Loss) 最低能到多少? 請回答你的上述幾項參數與 Test Loss 數"
   ]
  },
  {
   "cell_type": "markdown",
   "metadata": {
    "collapsed": true
   },
   "source": [
    "批次大小 | 學習速率 | 啟動函數 | 正規化選項與參數 | 測試誤差 (Test Loss)\n",
    "--------------|-----:|-----:| ----:| ----:\n",
    "10  | 0.03 | Tanh | None,0 | 0.462\n",
    "5  | 0.003 | Tanh | None,0 | 0.493\n",
    "1  | 0.003 | Tanh | None,0 | 0.429\n",
    "1  | 0.003 | Tanh | L1,0.003 | 0.493\n",
    "1  | 0.003 | Tanh | L2,0.003 | 0.487\n",
    "1  | 0.003 | Tanh | L1,3 | 0.502\n",
    "1  | 0.003 | Signoid | None,0 | 0.497\n",
    "1  | 0.003 | Signoid | L1,0.003 | 0.502\n",
    "1  | 0.003 | Signoid | L1,3 | 0.502\n",
    "1  | 0.003 | ReLU | None,0 | 0.385\n",
    "\n"
   ]
  },
  {
   "cell_type": "markdown",
   "metadata": {
    "collapsed": true
   },
   "source": []
  }
 ],
 "metadata": {
  "kernelspec": {
   "display_name": "Python 3",
   "language": "python",
   "name": "python3"
  },
  "language_info": {
   "codemirror_mode": {
    "name": "ipython",
    "version": 3
   },
   "file_extension": ".py",
   "mimetype": "text/x-python",
   "name": "python",
   "nbconvert_exporter": "python",
   "pygments_lexer": "ipython3",
   "version": "3.6.6"
  }
 },
 "nbformat": 4,
 "nbformat_minor": 2
}
