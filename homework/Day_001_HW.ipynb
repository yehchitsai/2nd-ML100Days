{
 "cells": [
  {
   "cell_type": "markdown",
   "metadata": {},
   "source": [
    "## 作業1：\n",
    "\n",
    "### 請上 Kaggle, 在 Competitions 或 Dataset 中找一組競賽或資料並寫下：\n",
    "\n",
    "1. 你選的這組資料為何重要\n",
    "    \n",
    "    **因為我對漁業發展有興趣，海洋是將來需要被關懷的環境**   \n",
    "    \n",
    "2. 資料從何而來 (tips: 譬如提供者是誰、以什麼方式蒐集)\n",
    "    \n",
    "    **所在網址為[Global Aquaculture Imports and Exports](https://www.kaggle.com/zhengtzer/global-fisheries-aquaculture-department)，提供者為ZhengTzer，資料來源來自聯合國糧食及農業組織，蒐集地區涵蓋非洲、美洲、亞洲、歐洲及大洋洲，蒐集時間為2000-2015**   \n",
    "    \n",
    "3. 蒐集而來的資料型態為何\n",
    "    \n",
    "    **csv格式，欄位內資料多是整數，有些是空值**   \n",
    "    \n",
    "4. 這組資料想解決的問題如何評估\n",
    "    \n",
    "    **提供者在這方面的描述寫的不是很清楚，不過主要應該是要預估產量與銷售金額的關係**   \n",
    "   \n"
   ]
  },
  {
   "cell_type": "markdown",
   "metadata": {},
   "source": [
    "## 作業2：\n",
    "### 想像你經營一個自由載客車隊，你希望能透過數據分析以提升業績，請你思考並描述你如何規劃整體的分析/解決方案：\n",
    "1. 核心問題為何 (tips：如何定義 「提升業績 & 你的假設」)\n",
    "    \n",
    "    *首先先定義**業績**為何，目前先暫定業績指的是**整個車隊每個月的整體營收**，不扣除任何支出，如人事費用、車輛維修、折舊、罰單、營業稅等支出。  \n",
    "    而在提升業績的方法則是從目前**車隊收入排名最前面的人員**來找出**業績好的關鍵因素**為何*  \n",
    "    \n",
    "2. 資料從何而來 (tips：哪些資料可能會對你想問的問題產生影響 & 資料如何蒐集)\n",
    "\n",
    "    *先設定不同的欄位來紀錄車隊的人員，如年齡、教育程度、上班時間、所配用的車子、車色、車齡、排班地點、知識程度、外型、性別、籍貫、精通語言、一天幾趟、每趟平均時間、與客戶的互動等欄位來紀錄每個車隊人員，再分析業績前幾名的人員在那些欄位有明顯差異。  \n",
    "    資料可能來自**基本資料或是每天的交易紀錄**等*  \n",
    "\n",
    "3. 蒐集而來的資料型態為何\n",
    "\n",
    "    *有的是整數資料、類別資料等*  \n",
    "    \n",
    "\n",
    "4. 你要回答的問題，其如何評估 (tips：你的假設如何驗證)\n",
    "\n",
    "    *找出業績好的影響因素，並讓所有同仁具備業績好的**關鍵因素***\n",
    "    \n",
    "    "
   ]
  },
  {
   "cell_type": "markdown",
   "metadata": {},
   "source": [
    "## 練習時間\n",
    "#### 請寫一個函式用來計算 Mean Square Error\n",
    "$ MSE = \\frac{1}{n}\\sum_{i=1}^{n}{(Y_i - \\hat{Y}_i)^2} $\n",
    "\n",
    "### Hint: [如何取平方](https://googoodesign.gitbooks.io/-ezpython/unit-1.html)"
   ]
  },
  {
   "cell_type": "code",
   "execution_count": 8,
   "metadata": {},
   "outputs": [],
   "source": [
    "import numpy as np\n",
    "import matplotlib.pyplot as plt\n",
    "from sklearn.metrics import mean_absolute_error as mae\n",
    "from sklearn.metrics import mean_squared_error as mse"
   ]
  },
  {
   "cell_type": "code",
   "execution_count": 5,
   "metadata": {},
   "outputs": [],
   "source": [
    "def mean_squared_error(y, yp):\n",
    "    \"\"\"\n",
    "    請完成這個均方誤差函數 後往下執行\n",
    "    計算 MSE\n",
    "    Args:\n",
    "        - y: 實際值\n",
    "        - yp: 預測值\n",
    "    Return:\n",
    "        - mse: MSE    \n",
    "    \"\"\"\n",
    "    mse = sum((y - yp) ** 2) / len(y)\n",
    "    return mse\n"
   ]
  },
  {
   "cell_type": "code",
   "execution_count": 6,
   "metadata": {},
   "outputs": [],
   "source": [
    "def mean_absolute_error(y, yp):\n",
    "    \"\"\"\n",
    "    計算 平均絕對誤差 MAE\n",
    "    Args:\n",
    "        - y: 實際值\n",
    "        - yp: 預測值\n",
    "    Return:\n",
    "        - mae: MAE\n",
    "    \"\"\"\n",
    "    mae = MAE = sum(abs(y - yp)) / len(y)\n",
    "    return mae"
   ]
  },
  {
   "cell_type": "code",
   "execution_count": 2,
   "metadata": {},
   "outputs": [
    {
     "data": {
      "image/png": "[encoded data removed]",
      "text/plain": [
       "<matplotlib.figure.Figure at 0x179e1324f60>"
      ]
     },
     "metadata": {},
     "output_type": "display_data"
    }
   ],
   "source": [
    "w = 3\n",
    "b = 0.5\n",
    "\n",
    "x_lin = np.linspace(0, 100, 101)\n",
    "\n",
    "y = (x_lin + np.random.randn(101) * 5) * w + b\n",
    "\n",
    "plt.plot(x_lin, y, 'b.', label = 'data points')\n",
    "plt.title(\"Assume we have data points\")\n",
    "plt.legend(loc = 2)\n",
    "plt.show()"
   ]
  },
  {
   "cell_type": "code",
   "execution_count": 3,
   "metadata": {},
   "outputs": [
    {
     "data": {
      "image/png": "[encoded data removed]",
      "text/plain": [
       "<matplotlib.figure.Figure at 0x179e13244e0>"
      ]
     },
     "metadata": {},
     "output_type": "display_data"
    }
   ],
   "source": [
    "y_hat = x_lin * w + b\n",
    "plt.plot(x_lin, y, 'b.', label = 'data')\n",
    "plt.plot(x_lin, y_hat, 'r-', label = 'prediction')\n",
    "plt.title(\"Assume we have data points (And the prediction)\")\n",
    "plt.legend(loc = 2)\n",
    "plt.show()"
   ]
  },
  {
   "cell_type": "code",
   "execution_count": 9,
   "metadata": {},
   "outputs": [
    {
     "name": "stdout",
     "output_type": "stream",
     "text": [
      "The Mean squared error is calculated by our function = 209.296, scikit-learn 209.296\n",
      "The Mean absolute error is calculated by our function = 11.580, scikit-learn 11.580\n"
     ]
    }
   ],
   "source": [
    "# 執行 Function, 確認有沒有正常執行\n",
    "MSE = mean_squared_error(y, y_hat)\n",
    "SKL_MSE = mse(y, y_hat)\n",
    "MAE = mean_absolute_error(y, y_hat)\n",
    "SKL_MAE = mae(y, y_hat)\n",
    "print(\"The Mean squared error is calculated by our function = %.3f, scikit-learn %.3f\" % (MSE, SKL_MSE))\n",
    "print(\"The Mean absolute error is calculated by our function = %.3f, scikit-learn %.3f\" % (MAE, SKL_MAE))"
   ]
  },
  {
   "cell_type": "code",
   "execution_count": null,
   "metadata": {},
   "outputs": [],
   "source": []
  }
 ],
 "metadata": {
  "anaconda-cloud": {},
  "kernelspec": {
   "display_name": "Python 3",
   "language": "python",
   "name": "python3"
  },
  "language_info": {
   "codemirror_mode": {
    "name": "ipython",
    "version": 3
   },
   "file_extension": ".py",
   "mimetype": "text/x-python",
   "name": "python",
   "nbconvert_exporter": "python",
   "pygments_lexer": "ipython3",
   "version": "3.6.6"
  }
 },
 "nbformat": 4,
 "nbformat_minor": 1
}
