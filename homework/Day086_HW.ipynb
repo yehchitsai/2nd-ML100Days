{
 "cells": [
  {
   "cell_type": "markdown",
   "metadata": {},
   "source": [
    "## Work\n",
    "1. 試比較 save_best_only 與否的差異\n",
    "2. 請僅存入將 save_weights_only 設定為 True, 並嘗試 reset ipynb 並將模型與權重重新建回並預測 x_test"
   ]
  },
  {
   "cell_type": "code",
   "execution_count": 1,
   "metadata": {},
   "outputs": [
    {
     "name": "stderr",
     "output_type": "stream",
     "text": [
      "Using TensorFlow backend.\n",
      "D:\\Users\\yehch\\Anaconda3\\lib\\site-packages\\tensorflow\\python\\framework\\dtypes.py:519: FutureWarning: Passing (type, 1) or '1type' as a synonym of type is deprecated; in a future version of numpy, it will be understood as (type, (1,)) / '(1,)type'.\n",
      "  _np_qint8 = np.dtype([(\"qint8\", np.int8, 1)])\n",
      "D:\\Users\\yehch\\Anaconda3\\lib\\site-packages\\tensorflow\\python\\framework\\dtypes.py:520: FutureWarning: Passing (type, 1) or '1type' as a synonym of type is deprecated; in a future version of numpy, it will be understood as (type, (1,)) / '(1,)type'.\n",
      "  _np_quint8 = np.dtype([(\"quint8\", np.uint8, 1)])\n",
      "D:\\Users\\yehch\\Anaconda3\\lib\\site-packages\\tensorflow\\python\\framework\\dtypes.py:521: FutureWarning: Passing (type, 1) or '1type' as a synonym of type is deprecated; in a future version of numpy, it will be understood as (type, (1,)) / '(1,)type'.\n",
      "  _np_qint16 = np.dtype([(\"qint16\", np.int16, 1)])\n",
      "D:\\Users\\yehch\\Anaconda3\\lib\\site-packages\\tensorflow\\python\\framework\\dtypes.py:522: FutureWarning: Passing (type, 1) or '1type' as a synonym of type is deprecated; in a future version of numpy, it will be understood as (type, (1,)) / '(1,)type'.\n",
      "  _np_quint16 = np.dtype([(\"quint16\", np.uint16, 1)])\n",
      "D:\\Users\\yehch\\Anaconda3\\lib\\site-packages\\tensorflow\\python\\framework\\dtypes.py:523: FutureWarning: Passing (type, 1) or '1type' as a synonym of type is deprecated; in a future version of numpy, it will be understood as (type, (1,)) / '(1,)type'.\n",
      "  _np_qint32 = np.dtype([(\"qint32\", np.int32, 1)])\n",
      "D:\\Users\\yehch\\Anaconda3\\lib\\site-packages\\tensorflow\\python\\framework\\dtypes.py:528: FutureWarning: Passing (type, 1) or '1type' as a synonym of type is deprecated; in a future version of numpy, it will be understood as (type, (1,)) / '(1,)type'.\n",
      "  np_resource = np.dtype([(\"resource\", np.ubyte, 1)])\n"
     ]
    }
   ],
   "source": [
    "import os\n",
    "import keras\n",
    "\n",
    "# Disable GPU\n",
    "os.environ[\"CUDA_VISIBLE_DEVICES\"] = \"0\""
   ]
  },
  {
   "cell_type": "code",
   "execution_count": 2,
   "metadata": {},
   "outputs": [],
   "source": [
    "train, test = keras.datasets.cifar10.load_data()"
   ]
  },
  {
   "cell_type": "code",
   "execution_count": 3,
   "metadata": {},
   "outputs": [],
   "source": [
    "## 資料前處理\n",
    "def preproc_x(x, flatten=True):\n",
    "    x = x / 255.\n",
    "    if flatten:\n",
    "        x = x.reshape((len(x), -1))\n",
    "    return x\n",
    "\n",
    "def preproc_y(y, num_classes=10):\n",
    "    if y.shape[-1] == 1:\n",
    "        y = keras.utils.to_categorical(y, num_classes)\n",
    "    return y    "
   ]
  },
  {
   "cell_type": "code",
   "execution_count": 4,
   "metadata": {},
   "outputs": [],
   "source": [
    "x_train, y_train = train\n",
    "x_test, y_test = test\n",
    "\n",
    "data_ratio = 20\n",
    "# 將資料集減少為1/20\n",
    "# 資料前處理 - X 標準化\n",
    "x_train = preproc_x(x_train[::data_ratio])\n",
    "x_test = preproc_x(x_test[::data_ratio])\n",
    "\n",
    "# 資料前處理 -Y 轉成 onehot\n",
    "y_train = preproc_y(y_train[::data_ratio])\n",
    "y_test = preproc_y(y_test[::data_ratio])"
   ]
  },
  {
   "cell_type": "code",
   "execution_count": 5,
   "metadata": {},
   "outputs": [],
   "source": [
    "from keras.layers import BatchNormalization\n",
    "\n",
    "\"\"\"\n",
    "建立神經網路，並加入 BN layer\n",
    "\"\"\"\n",
    "def build_mlp(input_shape, output_units=10, num_neurons=[512, 256, 128]):\n",
    "    input_layer = keras.layers.Input(input_shape)\n",
    "    \n",
    "    for i, n_units in enumerate(num_neurons):\n",
    "        if i == 0:\n",
    "            x = keras.layers.Dense(units=n_units, \n",
    "                                   activation=\"relu\", \n",
    "                                   name=\"hidden_layer\"+str(i+1))(input_layer)\n",
    "            x = BatchNormalization()(x)\n",
    "        else:\n",
    "            x = keras.layers.Dense(units=n_units, \n",
    "                                   activation=\"relu\", \n",
    "                                   name=\"hidden_layer\"+str(i+1))(x)\n",
    "            x = BatchNormalization()(x)\n",
    "    \n",
    "    out = keras.layers.Dense(units=output_units, activation=\"softmax\", name=\"output\")(x)\n",
    "    \n",
    "    model = keras.models.Model(inputs=[input_layer], outputs=[out])\n",
    "    return model"
   ]
  },
  {
   "cell_type": "code",
   "execution_count": 7,
   "metadata": {},
   "outputs": [],
   "source": [
    "\"\"\"Code Here\n",
    "設定超參數\n",
    "\"\"\"\n",
    "LEARNING_RATE = 1e-3\n",
    "EPOCHS = 50\n",
    "BATCH_SIZE = 1024\n",
    "MOMENTUM = 0.95"
   ]
  },
  {
   "cell_type": "code",
   "execution_count": 8,
   "metadata": {},
   "outputs": [
    {
     "name": "stdout",
     "output_type": "stream",
     "text": [
      "_________________________________________________________________\n",
      "Layer (type)                 Output Shape              Param #   \n",
      "=================================================================\n",
      "input_1 (InputLayer)         (None, 3072)              0         \n",
      "_________________________________________________________________\n",
      "hidden_layer1 (Dense)        (None, 512)               1573376   \n",
      "_________________________________________________________________\n",
      "batch_normalization_1 (Batch (None, 512)               2048      \n",
      "_________________________________________________________________\n",
      "hidden_layer2 (Dense)        (None, 256)               131328    \n",
      "_________________________________________________________________\n",
      "batch_normalization_2 (Batch (None, 256)               1024      \n",
      "_________________________________________________________________\n",
      "hidden_layer3 (Dense)        (None, 128)               32896     \n",
      "_________________________________________________________________\n",
      "batch_normalization_3 (Batch (None, 128)               512       \n",
      "_________________________________________________________________\n",
      "output (Dense)               (None, 10)                1290      \n",
      "=================================================================\n",
      "Total params: 1,742,474\n",
      "Trainable params: 1,740,682\n",
      "Non-trainable params: 1,792\n",
      "_________________________________________________________________\n",
      "Train on 2500 samples, validate on 500 samples\n",
      "Epoch 1/50\n",
      "2500/2500 [==============================] - 3s 1ms/step - loss: 3.0579 - acc: 0.1068 - val_loss: 2.9450 - val_acc: 0.1400\n",
      "Epoch 2/50\n",
      "2500/2500 [==============================] - 0s 107us/step - loss: 2.7770 - acc: 0.1444 - val_loss: 2.9344 - val_acc: 0.1800\n",
      "Epoch 3/50\n",
      "2500/2500 [==============================] - 0s 103us/step - loss: 2.4785 - acc: 0.2048 - val_loss: 2.9626 - val_acc: 0.2040\n",
      "Epoch 4/50\n",
      "2500/2500 [==============================] - 0s 111us/step - loss: 2.2443 - acc: 0.2680 - val_loss: 2.8641 - val_acc: 0.2340\n",
      "Epoch 5/50\n",
      "2500/2500 [==============================] - 0s 107us/step - loss: 2.0529 - acc: 0.3152 - val_loss: 2.7353 - val_acc: 0.2500\n",
      "Epoch 6/50\n",
      "2500/2500 [==============================] - 0s 108us/step - loss: 1.9059 - acc: 0.3480 - val_loss: 2.6226 - val_acc: 0.2720\n",
      "Epoch 7/50\n",
      "2500/2500 [==============================] - 0s 114us/step - loss: 1.7852 - acc: 0.3812 - val_loss: 2.5291 - val_acc: 0.2640\n",
      "Epoch 8/50\n",
      "2500/2500 [==============================] - 0s 106us/step - loss: 1.6773 - acc: 0.4208 - val_loss: 2.4539 - val_acc: 0.2800\n",
      "Epoch 9/50\n",
      "2500/2500 [==============================] - 0s 112us/step - loss: 1.5894 - acc: 0.4452 - val_loss: 2.3830 - val_acc: 0.2980\n",
      "Epoch 10/50\n",
      "2500/2500 [==============================] - 0s 115us/step - loss: 1.5079 - acc: 0.4764 - val_loss: 2.3274 - val_acc: 0.2860\n",
      "Epoch 11/50\n",
      "2500/2500 [==============================] - 0s 107us/step - loss: 1.4363 - acc: 0.5044 - val_loss: 2.2724 - val_acc: 0.2980\n",
      "Epoch 12/50\n",
      "2500/2500 [==============================] - 0s 106us/step - loss: 1.3699 - acc: 0.5360 - val_loss: 2.2196 - val_acc: 0.3040\n",
      "Epoch 13/50\n",
      "2500/2500 [==============================] - 0s 103us/step - loss: 1.3075 - acc: 0.5640 - val_loss: 2.1764 - val_acc: 0.3220\n",
      "Epoch 14/50\n",
      "2500/2500 [==============================] - 0s 99us/step - loss: 1.2539 - acc: 0.5872 - val_loss: 2.1385 - val_acc: 0.3460\n",
      "Epoch 15/50\n",
      "2500/2500 [==============================] - 0s 109us/step - loss: 1.1975 - acc: 0.6068 - val_loss: 2.1040 - val_acc: 0.3420\n",
      "Epoch 16/50\n",
      "2500/2500 [==============================] - 0s 107us/step - loss: 1.1489 - acc: 0.6340 - val_loss: 2.0755 - val_acc: 0.3440\n",
      "Epoch 17/50\n",
      "2500/2500 [==============================] - 0s 119us/step - loss: 1.1013 - acc: 0.6632 - val_loss: 2.0668 - val_acc: 0.3440\n",
      "Epoch 18/50\n",
      "2500/2500 [==============================] - 0s 101us/step - loss: 1.0565 - acc: 0.6840 - val_loss: 2.0661 - val_acc: 0.3500\n",
      "Epoch 19/50\n",
      "2500/2500 [==============================] - 0s 105us/step - loss: 1.0152 - acc: 0.7016 - val_loss: 2.0680 - val_acc: 0.3460\n",
      "Epoch 20/50\n",
      "2500/2500 [==============================] - 0s 109us/step - loss: 0.9764 - acc: 0.7224 - val_loss: 2.0604 - val_acc: 0.3440\n",
      "Epoch 21/50\n",
      "2500/2500 [==============================] - 0s 106us/step - loss: 0.9397 - acc: 0.7420 - val_loss: 2.0426 - val_acc: 0.3460\n",
      "Epoch 22/50\n",
      "2500/2500 [==============================] - 0s 111us/step - loss: 0.9051 - acc: 0.7544 - val_loss: 2.0282 - val_acc: 0.3460\n",
      "Epoch 23/50\n",
      "2500/2500 [==============================] - 0s 106us/step - loss: 0.8714 - acc: 0.7700 - val_loss: 2.0193 - val_acc: 0.3480\n",
      "Epoch 24/50\n",
      "2500/2500 [==============================] - 0s 106us/step - loss: 0.8405 - acc: 0.7904 - val_loss: 2.0131 - val_acc: 0.3500\n",
      "Epoch 25/50\n",
      "2500/2500 [==============================] - 0s 108us/step - loss: 0.8118 - acc: 0.8064 - val_loss: 2.0056 - val_acc: 0.3540\n",
      "Epoch 26/50\n",
      "2500/2500 [==============================] - 0s 106us/step - loss: 0.7824 - acc: 0.8156 - val_loss: 2.0001 - val_acc: 0.3540\n",
      "Epoch 27/50\n",
      "2500/2500 [==============================] - 0s 101us/step - loss: 0.7542 - acc: 0.8284 - val_loss: 1.9895 - val_acc: 0.3560\n",
      "Epoch 28/50\n",
      "2500/2500 [==============================] - 0s 113us/step - loss: 0.7272 - acc: 0.8472 - val_loss: 1.9809 - val_acc: 0.3540\n",
      "Epoch 29/50\n",
      "2500/2500 [==============================] - 0s 112us/step - loss: 0.7033 - acc: 0.8584 - val_loss: 1.9745 - val_acc: 0.3660\n",
      "Epoch 30/50\n",
      "2500/2500 [==============================] - 0s 111us/step - loss: 0.6796 - acc: 0.8652 - val_loss: 1.9778 - val_acc: 0.3640\n",
      "Epoch 31/50\n",
      "2500/2500 [==============================] - 0s 118us/step - loss: 0.6573 - acc: 0.8700 - val_loss: 1.9846 - val_acc: 0.3540\n",
      "Epoch 32/50\n",
      "2500/2500 [==============================] - 0s 110us/step - loss: 0.6368 - acc: 0.8800 - val_loss: 1.9875 - val_acc: 0.3500\n",
      "Epoch 33/50\n",
      "2500/2500 [==============================] - 0s 104us/step - loss: 0.6146 - acc: 0.8856 - val_loss: 1.9853 - val_acc: 0.3500\n",
      "Epoch 34/50\n",
      "2500/2500 [==============================] - 0s 99us/step - loss: 0.5928 - acc: 0.8924 - val_loss: 1.9819 - val_acc: 0.3520\n",
      "Epoch 35/50\n",
      "2500/2500 [==============================] - 0s 108us/step - loss: 0.5731 - acc: 0.8988 - val_loss: 1.9808 - val_acc: 0.3680\n",
      "Epoch 36/50\n",
      "2500/2500 [==============================] - 0s 99us/step - loss: 0.5538 - acc: 0.9048 - val_loss: 1.9791 - val_acc: 0.3680\n",
      "Epoch 37/50\n",
      "2500/2500 [==============================] - 0s 119us/step - loss: 0.5388 - acc: 0.9080 - val_loss: 1.9812 - val_acc: 0.3640\n",
      "Epoch 38/50\n",
      "2500/2500 [==============================] - 0s 106us/step - loss: 0.5190 - acc: 0.9124 - val_loss: 1.9840 - val_acc: 0.3600\n",
      "Epoch 39/50\n",
      "2500/2500 [==============================] - 0s 111us/step - loss: 0.5045 - acc: 0.9192 - val_loss: 1.9853 - val_acc: 0.3540\n",
      "Epoch 40/50\n",
      "2500/2500 [==============================] - 0s 103us/step - loss: 0.4846 - acc: 0.9264 - val_loss: 1.9841 - val_acc: 0.3640\n",
      "Epoch 41/50\n",
      "2500/2500 [==============================] - 0s 105us/step - loss: 0.4729 - acc: 0.9332 - val_loss: 1.9817 - val_acc: 0.3600\n",
      "Epoch 42/50\n",
      "2500/2500 [==============================] - 0s 109us/step - loss: 0.4549 - acc: 0.9344 - val_loss: 1.9826 - val_acc: 0.3560\n",
      "Epoch 43/50\n",
      "2500/2500 [==============================] - 0s 97us/step - loss: 0.4428 - acc: 0.9416 - val_loss: 1.9833 - val_acc: 0.3640\n",
      "Epoch 44/50\n",
      "2500/2500 [==============================] - 0s 109us/step - loss: 0.4276 - acc: 0.9400 - val_loss: 1.9806 - val_acc: 0.3700\n",
      "Epoch 45/50\n",
      "2500/2500 [==============================] - 0s 109us/step - loss: 0.4123 - acc: 0.9480 - val_loss: 1.9811 - val_acc: 0.3740\n",
      "Epoch 46/50\n",
      "2500/2500 [==============================] - 0s 107us/step - loss: 0.4011 - acc: 0.9500 - val_loss: 1.9817 - val_acc: 0.3700\n",
      "Epoch 47/50\n",
      "2500/2500 [==============================] - 0s 114us/step - loss: 0.3894 - acc: 0.9544 - val_loss: 1.9856 - val_acc: 0.3660\n",
      "Epoch 48/50\n",
      "2500/2500 [==============================] - 0s 123us/step - loss: 0.3749 - acc: 0.9576 - val_loss: 1.9887 - val_acc: 0.3640\n",
      "Epoch 49/50\n",
      "2500/2500 [==============================] - 0s 118us/step - loss: 0.3638 - acc: 0.9608 - val_loss: 1.9906 - val_acc: 0.3660\n",
      "Epoch 50/50\n"
     ]
    },
    {
     "name": "stdout",
     "output_type": "stream",
     "text": [
      "2500/2500 [==============================] - 0s 108us/step - loss: 0.3542 - acc: 0.9620 - val_loss: 1.9913 - val_acc: 0.3680\n"
     ]
    },
    {
     "ename": "ValueError",
     "evalue": "No model found in config file.",
     "output_type": "error",
     "traceback": [
      "\u001b[1;31m---------------------------------------------------------------------------\u001b[0m",
      "\u001b[1;31mValueError\u001b[0m                                Traceback (most recent call last)",
      "\u001b[1;32m<ipython-input-8-c0548b4c10ae>\u001b[0m in \u001b[0;36m<module>\u001b[1;34m()\u001b[0m\n\u001b[0;32m     35\u001b[0m \u001b[1;33m\u001b[0m\u001b[0m\n\u001b[0;32m     36\u001b[0m \u001b[1;31m# Load back\u001b[0m\u001b[1;33m\u001b[0m\u001b[1;33m\u001b[0m\u001b[0m\n\u001b[1;32m---> 37\u001b[1;33m \u001b[0mmodel\u001b[0m \u001b[1;33m=\u001b[0m \u001b[0mkeras\u001b[0m\u001b[1;33m.\u001b[0m\u001b[0mmodels\u001b[0m\u001b[1;33m.\u001b[0m\u001b[0mload_model\u001b[0m\u001b[1;33m(\u001b[0m\u001b[1;34m\"./day086.h5\"\u001b[0m\u001b[1;33m)\u001b[0m\u001b[1;33m\u001b[0m\u001b[0m\n\u001b[0m\u001b[0;32m     38\u001b[0m \u001b[0mloss_loadback\u001b[0m\u001b[1;33m,\u001b[0m \u001b[0macc_loadback\u001b[0m \u001b[1;33m=\u001b[0m \u001b[0mmodel\u001b[0m\u001b[1;33m.\u001b[0m\u001b[0mevaluate\u001b[0m\u001b[1;33m(\u001b[0m\u001b[0mx_test\u001b[0m\u001b[1;33m,\u001b[0m \u001b[0my_test\u001b[0m\u001b[1;33m)\u001b[0m\u001b[1;33m\u001b[0m\u001b[0m\n",
      "\u001b[1;32mD:\\Users\\yehch\\Anaconda3\\lib\\site-packages\\keras\\models.py\u001b[0m in \u001b[0;36mload_model\u001b[1;34m(filepath, custom_objects, compile)\u001b[0m\n\u001b[0;32m    266\u001b[0m         \u001b[0mmodel_config\u001b[0m \u001b[1;33m=\u001b[0m \u001b[0mf\u001b[0m\u001b[1;33m.\u001b[0m\u001b[0mattrs\u001b[0m\u001b[1;33m.\u001b[0m\u001b[0mget\u001b[0m\u001b[1;33m(\u001b[0m\u001b[1;34m'model_config'\u001b[0m\u001b[1;33m)\u001b[0m\u001b[1;33m\u001b[0m\u001b[0m\n\u001b[0;32m    267\u001b[0m         \u001b[1;32mif\u001b[0m \u001b[0mmodel_config\u001b[0m \u001b[1;32mis\u001b[0m \u001b[1;32mNone\u001b[0m\u001b[1;33m:\u001b[0m\u001b[1;33m\u001b[0m\u001b[0m\n\u001b[1;32m--> 268\u001b[1;33m             \u001b[1;32mraise\u001b[0m \u001b[0mValueError\u001b[0m\u001b[1;33m(\u001b[0m\u001b[1;34m'No model found in config file.'\u001b[0m\u001b[1;33m)\u001b[0m\u001b[1;33m\u001b[0m\u001b[0m\n\u001b[0m\u001b[0;32m    269\u001b[0m         \u001b[0mmodel_config\u001b[0m \u001b[1;33m=\u001b[0m \u001b[0mjson\u001b[0m\u001b[1;33m.\u001b[0m\u001b[0mloads\u001b[0m\u001b[1;33m(\u001b[0m\u001b[0mmodel_config\u001b[0m\u001b[1;33m.\u001b[0m\u001b[0mdecode\u001b[0m\u001b[1;33m(\u001b[0m\u001b[1;34m'utf-8'\u001b[0m\u001b[1;33m)\u001b[0m\u001b[1;33m)\u001b[0m\u001b[1;33m\u001b[0m\u001b[0m\n\u001b[0;32m    270\u001b[0m         \u001b[0mmodel\u001b[0m \u001b[1;33m=\u001b[0m \u001b[0mmodel_from_config\u001b[0m\u001b[1;33m(\u001b[0m\u001b[0mmodel_config\u001b[0m\u001b[1;33m,\u001b[0m \u001b[0mcustom_objects\u001b[0m\u001b[1;33m=\u001b[0m\u001b[0mcustom_objects\u001b[0m\u001b[1;33m)\u001b[0m\u001b[1;33m\u001b[0m\u001b[0m\n",
      "\u001b[1;31mValueError\u001b[0m: No model found in config file."
     ]
    }
   ],
   "source": [
    "# 載入 Callbacks\n",
    "\"\"\"Code Here\n",
    "設定 callbacks: model checkpoint\n",
    "1.試比較 save_best_only 與否的差異\n",
    "2.請僅存入將 save_weights_only 設定為 True, 並嘗試 reset ipynb 並將模型與權重重新建回並預測 x_test\n",
    "\"\"\"\n",
    "from keras.callbacks import ModelCheckpoint\n",
    "\n",
    "model_ckpt = ModelCheckpoint(filepath=\"./day086.h5\", \n",
    "                             monitor=\"val_loss\", \n",
    "                             save_best_only=False,\n",
    "                             save_weights_only=True)\n",
    "results = {}\n",
    "\"\"\"Code Here\n",
    "撰寫你的訓練流程並將結果用 dictionary 紀錄\n",
    "\"\"\"\n",
    "model = build_mlp(input_shape=x_train.shape[1:])\n",
    "model.summary()\n",
    "optimizer = keras.optimizers.SGD(lr=LEARNING_RATE, nesterov=True, momentum=MOMENTUM)\n",
    "model.compile(loss=\"categorical_crossentropy\", metrics=[\"accuracy\"], optimizer=optimizer)\n",
    "\n",
    "model.fit(x_train, y_train, \n",
    "          epochs=EPOCHS, \n",
    "          batch_size=BATCH_SIZE, \n",
    "          validation_data=(x_test, y_test), \n",
    "          shuffle=True,\n",
    "          callbacks=[model_ckpt]\n",
    "         )\n",
    "\n",
    "# Collect results\n",
    "train_loss = model.history.history[\"loss\"]\n",
    "valid_loss = model.history.history[\"val_loss\"]\n",
    "train_acc = model.history.history[\"acc\"]\n",
    "valid_acc = model.history.history[\"val_acc\"]\n"
   ]
  },
  {
   "cell_type": "code",
   "execution_count": 15,
   "metadata": {},
   "outputs": [
    {
     "name": "stdout",
     "output_type": "stream",
     "text": [
      "500/500 [==============================] - 1s 1ms/step\n",
      "[2.4055598945617676, 0.1080000001192093]\n",
      "500/500 [==============================] - 0s 179us/step\n",
      "500/500 [==============================] - 0s 184us/step\n",
      "Load back model: 1.9913480606079101 0.36799999976158143\n",
      "Original model: 1.9913480606079101 0.36799999976158143\n"
     ]
    }
   ],
   "source": [
    "# Load back 將模型與權重重新建回並預測 x_test\n",
    "# rebuild model as model2\n",
    "# simulating starting a new script\n",
    "model2 = build_mlp(input_shape=x_train.shape[1:])\n",
    "model2.compile(loss=\"categorical_crossentropy\", metrics=[\"accuracy\"], optimizer=optimizer)\n",
    "\n",
    "# check that the new model does indeed have random weights\n",
    "print (model2.evaluate(x=x_test, y=y_test))\n",
    "\n",
    "# load 3rd epoch weights\n",
    "model2.load_weights('./day086.h5')\n",
    "\n",
    "# these should be equal\n",
    "loss_loadback, acc_loadback = model2.evaluate(x_test, y_test)\n",
    "loss_orig, acc_orig = model.evaluate(x_test, y_test)\n",
    "print ('Load back model:', loss_loadback, acc_loadback)\n",
    "print ('Original model:', loss_orig, acc_orig)"
   ]
  },
  {
   "cell_type": "code",
   "execution_count": 17,
   "metadata": {
    "scrolled": true
   },
   "outputs": [
    {
     "data": {
      "image/png": "[encoded data removed]",
      "text/plain": [
       "<matplotlib.figure.Figure at 0x27a6dda97b8>"
      ]
     },
     "metadata": {},
     "output_type": "display_data"
    },
    {
     "data": {
      "image/png": "[encoded data removed]",
      "text/plain": [
       "<matplotlib.figure.Figure at 0x27a6decf550>"
      ]
     },
     "metadata": {},
     "output_type": "display_data"
    }
   ],
   "source": [
    "import matplotlib.pyplot as plt\n",
    "%matplotlib inline\n",
    "\"\"\"Code Here\n",
    "將結果繪出\n",
    "\"\"\"\n",
    "plt.plot(range(len(train_loss)), train_loss, label=\"train loss\")\n",
    "plt.plot(range(len(valid_loss)), valid_loss, label=\"valid loss\")\n",
    "plt.hlines(y=loss_loadback, xmin=0, xmax=len(train_loss), colors='r', linestyles='--')\n",
    "plt.hlines(y=loss_orig, xmin=0, xmax=len(train_loss), colors='black', linestyles='dotted')\n",
    "plt.legend()\n",
    "plt.title(\"Loss\")\n",
    "plt.show()\n",
    "\n",
    "plt.plot(range(len(train_acc)), train_acc, label=\"train accuracy\")\n",
    "plt.plot(range(len(valid_acc)), valid_acc, label=\"valid accuracy\")\n",
    "plt.hlines(y=acc_loadback, xmin=0, xmax=len(train_acc), colors='r', linestyles='--')\n",
    "plt.hlines(y=acc_orig, xmin=0, xmax=len(train_acc), colors='black', linestyles='dotted')\n",
    "plt.legend()\n",
    "plt.title(\"Accuracy\")\n",
    "plt.show()"
   ]
  },
  {
   "cell_type": "code",
   "execution_count": null,
   "metadata": {},
   "outputs": [],
   "source": []
  }
 ],
 "metadata": {
  "kernelspec": {
   "display_name": "Python 3",
   "language": "python",
   "name": "python3"
  },
  "language_info": {
   "codemirror_mode": {
    "name": "ipython",
    "version": 3
   },
   "file_extension": ".py",
   "mimetype": "text/x-python",
   "name": "python",
   "nbconvert_exporter": "python",
   "pygments_lexer": "ipython3",
   "version": "3.6.6"
  }
 },
 "nbformat": 4,
 "nbformat_minor": 2
}
