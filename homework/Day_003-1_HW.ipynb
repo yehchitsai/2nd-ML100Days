{
 "cells": [
  {
   "cell_type": "markdown",
   "metadata": {},
   "source": [
    "## 練習時間\n",
    "在小量的資料上，我們用眼睛就可以看得出來程式碼是否有跑出我們理想中的結果\n",
    "\n",
    "請嘗試想像一個你需要的資料結構 (裡面的值可以是隨機的)，然後用上述的方法把它變成 pandas DataFrame\n",
    "\n",
    "#### Ex: 想像一個 dataframe 有兩個欄位，一個是國家，一個是人口，求人口數最多的國家\n",
    "\n",
    "### Hints: [隨機產生數值](https://blog.csdn.net/christianashannon/article/details/78867204)"
   ]
  },
  {
   "cell_type": "code",
   "execution_count": 1,
   "metadata": {},
   "outputs": [],
   "source": [
    "import pandas as pd\n",
    "import numpy as np"
   ]
  },
  {
   "cell_type": "code",
   "execution_count": 11,
   "metadata": {},
   "outputs": [
    {
     "name": "stdout",
     "output_type": "stream",
     "text": [
      "              國家         人口\n",
      "0         Taiwan  196000000\n",
      "1  United States   96000000\n",
      "2       Thailand  200000000\n"
     ]
    }
   ],
   "source": [
    "data = {' 國家': ['Taiwan','United States','Thailand'],\n",
    "        '人口': np.random.randint(20,300, size = 3)*1000000      \n",
    "        }\n",
    "#print(data.shape)\n",
    "df = pd.DataFrame(data)\n",
    "print(df)"
   ]
  },
  {
   "cell_type": "code",
   "execution_count": 10,
   "metadata": {},
   "outputs": [
    {
     "data": {
      "text/plain": [
       "\"\\nnations = ['Taiwan','United States','Thailand']\\npopulation = np.random.randint(20000000,100000000, size = 3)\\n\\nlist_labels = [' 國家','人口']\\nlist_cols = [nations,population]\\n\\nzipped = list(zip(list_labels, list_cols))\\nprint(zipped)\\nvisitors_2 = pd.DataFrame(dict(zipped))\\nprint(visitors_2)\\n\""
      ]
     },
     "execution_count": 10,
     "metadata": {},
     "output_type": "execute_result"
    }
   ],
   "source": [
    "'''\n",
    "nations = ['Taiwan','United States','Thailand']\n",
    "population = np.random.randint(20000000,100000000, size = 3)\n",
    "\n",
    "list_labels = [' 國家','人口']\n",
    "list_cols = [nations,population]\n",
    "\n",
    "zipped = list(zip(list_labels, list_cols))\n",
    "print(zipped)\n",
    "visitors_2 = pd.DataFrame(dict(zipped))\n",
    "print(visitors_2)\n",
    "'''"
   ]
  },
  {
   "cell_type": "code",
   "execution_count": null,
   "metadata": {},
   "outputs": [],
   "source": []
  }
 ],
 "metadata": {
  "kernelspec": {
   "display_name": "Python 3",
   "language": "python",
   "name": "python3"
  },
  "language_info": {
   "codemirror_mode": {
    "name": "ipython",
    "version": 3
   },
   "file_extension": ".py",
   "mimetype": "text/x-python",
   "name": "python",
   "nbconvert_exporter": "python",
   "pygments_lexer": "ipython3",
   "version": "3.6.6"
  }
 },
 "nbformat": 4,
 "nbformat_minor": 2
}
